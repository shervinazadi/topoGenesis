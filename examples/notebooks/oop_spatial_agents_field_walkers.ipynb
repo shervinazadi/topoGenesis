{
 "metadata": {
  "language_info": {
   "codemirror_mode": {
    "name": "ipython",
    "version": 3
   },
   "file_extension": ".py",
   "mimetype": "text/x-python",
   "name": "python",
   "nbconvert_exporter": "python",
   "pygments_lexer": "ipython3",
   "version": "3.8.5-final"
  },
  "orig_nbformat": 2,
  "kernelspec": {
   "name": "python_defaultSpec_1600853230200",
   "display_name": "Python 3.8.5 64-bit ('tgdev': conda)"
  }
 },
 "nbformat": 4,
 "nbformat_minor": 2,
 "cells": [
  {
   "cell_type": "code",
   "execution_count": 52,
   "metadata": {},
   "outputs": [],
   "source": [
    "import topogenesis as tg\n",
    "import numpy as np\n",
    "np.random.seed(0)"
   ]
  },
  {
   "cell_type": "code",
   "execution_count": 53,
   "metadata": {
    "tags": []
   },
   "outputs": [],
   "source": [
    "# agent class\n",
    "class agent():\n",
    "    def __init__(self, origin, stencil, id):\n",
    "\n",
    "        # define the origin attribute of the agent and making sure that it is an intiger\n",
    "        self.origin = np.array(origin).astype(int)\n",
    "        # define old origin attribute and assigning the origin to it as the initial state\n",
    "        self.old_origin = self.origin\n",
    "        # define stencil of the agent\n",
    "        self.stencil = stencil\n",
    "        #define agent id\n",
    "        self.id = id\n",
    "\n",
    "    # definition of walking method for agents\n",
    "    def walk(self, env):\n",
    "        # find available spaces\n",
    "        #######################\n",
    "\n",
    "        # retrieve the list of neighbours of the agent based on the stencil\n",
    "        neighs = env.availibility.find_neighbours_masked(self.stencil, loc = self.origin)\n",
    "        # find availability of neighbours\n",
    "        neighs_availibility = env.availibility.flatten()[neighs]\n",
    "        # separate available neighbours\n",
    "        free_neighs = neighs[neighs_availibility==1]\n",
    "        # retrieve the myvalue of each neighbour\n",
    "        free_neighs_myvalue = env.myvalue.flatten()[free_neighs]\n",
    "        # find the neighbour with maximum my value\n",
    "        selected_neigh = free_neighs[np.argmax(free_neighs_myvalue)]\n",
    "        \n",
    "        # update information\n",
    "        ####################\n",
    "\n",
    "        # set the current origin as the ol origin\n",
    "        self.old_origin = self.origin\n",
    "        # update the current origin with the new selected neighbour\n",
    "        self.origin = np.array(np.unravel_index(selected_neigh, env.availibility.shape)).flatten()"
   ]
  },
  {
   "cell_type": "code",
   "execution_count": 54,
   "metadata": {},
   "outputs": [],
   "source": [
    "# initiate availibility lattice\n",
    "unit = 1\n",
    "bounds = np.array([[0,0,0],[0,8,8]])\n",
    "avail_lattice = tg.lattice(bounds, unit=unit, default_value=1, dtype=int)\n",
    "\n",
    "# randomly scattering the agents\n",
    "selected_cells = np.random.choice(avail_lattice.size, 5)\n",
    "agent_ind = np.array(np.unravel_index(selected_cells, avail_lattice.shape))\n",
    "\n",
    "# creating neighborhood definition\n",
    "stencil = tg.stencil(np.array([[[0, 1, 0,],\n",
    "                                [1, 1, 1,],\n",
    "                                [0, 1, 0,]]]),origin=np.array([0,1,1]))\n",
    "\n",
    "agents= []\n",
    "# creating agent objects\n",
    "for id, ind in enumerate(agent_ind.T.tolist()):\n",
    "    myagent = agent(ind, stencil, id+1)\n",
    "    agents.append(myagent)"
   ]
  },
  {
   "cell_type": "code",
   "execution_count": 55,
   "metadata": {
    "tags": []
   },
   "outputs": [],
   "source": [
    "# environment class\n",
    "class environment():\n",
    "    def __init__(self, lattices, agents):\n",
    "        self.availibility = lattices[\"availibility\"]\n",
    "        self.myvalue = lattices[\"myvalue\"]\n",
    "        self.agent_origin = self.availibility * 0\n",
    "        self.agents = agents\n",
    "        self.update_agents()\n",
    "    \n",
    "    def update_agents(self):\n",
    "        for a in self.agents:\n",
    "            # making previous position available\n",
    "            self.availibility[tuple(a.old_origin)] = self.availibility[tuple(a.old_origin)] * 0 + 1\n",
    "            # removing agent from previous position\n",
    "            self.agent_origin[tuple(a.old_origin)] *= 0\n",
    "            # making the current position unavailable\n",
    "            self.availibility[tuple(a.origin)] *= 0\n",
    "            # adding agent to the new position \n",
    "            self.agent_origin[tuple(a.origin)] = a.id\n",
    "    \n",
    "    def walk_agents(self):\n",
    "        # iterate over egents and perform the walk\n",
    "        for a in self.agents:\n",
    "            a.walk(self)\n",
    "        # update the agent states in environment\n",
    "        self.update_agents()"
   ]
  },
  {
   "cell_type": "code",
   "execution_count": 56,
   "metadata": {},
   "outputs": [],
   "source": [
    "# construct a dummy value field\n",
    "###############################\n",
    "\n",
    "# create a series of sin values for 0 to pi\n",
    "sin_a = np.sin(np.arange(9) * 0.125 * np.pi).astype(np.float16)\n",
    "# compute the outer product of the series with itself to create a radial value field\n",
    "myvalue_field = np.outer(sin_a,sin_a)\n",
    "# add extra dimension to array to make it comaptible with lattices\n",
    "myvalue_field = myvalue_field[np.newaxis, :]\n",
    "# construct the lattice\n",
    "myvalue_lattice = tg.to_lattice(myvalue_field, np.array([0,0,0]))"
   ]
  },
  {
   "cell_type": "code",
   "execution_count": 57,
   "metadata": {
    "tags": []
   },
   "outputs": [
    {
     "output_type": "stream",
     "name": "stdout",
     "text": "[array([0, 4, 8]), array([0, 5, 2]), array([0, 7, 1]), array([0, 7, 4]), array([0, 7, 4])]\n[array([0, 4, 7]), array([0, 5, 3]), array([0, 6, 1]), array([0, 6, 4]), array([0, 6, 4])]\n[array([0, 4, 6]), array([0, 4, 3]), array([0, 6, 2]), array([0, 5, 4]), array([0, 5, 4])]\n[array([0, 4, 5]), array([0, 4, 4]), array([0, 5, 2]), array([0, 4, 4]), array([0, 4, 4])]\n[array([0, 3, 5]), array([0, 3, 4]), array([0, 5, 3]), array([0, 3, 4]), array([0, 3, 4])]\n[array([0, 4, 5]), array([0, 4, 4]), array([0, 4, 3]), array([0, 4, 4]), array([0, 4, 4])]\n[array([0, 3, 5]), array([0, 3, 4]), array([0, 3, 3]), array([0, 3, 4]), array([0, 3, 4])]\n[array([0, 4, 5]), array([0, 4, 4]), array([0, 4, 3]), array([0, 4, 4]), array([0, 4, 4])]\n[array([0, 3, 5]), array([0, 3, 4]), array([0, 3, 3]), array([0, 3, 4]), array([0, 3, 4])]\n[array([0, 4, 5]), array([0, 4, 4]), array([0, 4, 3]), array([0, 4, 4]), array([0, 4, 4])]\n"
    }
   ],
   "source": [
    "# initiate the environment\n",
    "env_lattices = {\"availibility\": avail_lattice,\n",
    "                \"myvalue\": myvalue_lattice}\n",
    "env = environment(env_lattices, agents)\n",
    "for i in range(10):\n",
    "    # print(env.availibility)\n",
    "    # print(env.agent_origin)\n",
    "    agn_org = [a.origin for a in env.agents]\n",
    "    print(agn_org)\n",
    "    env.walk_agents()"
   ]
  },
  {
   "cell_type": "code",
   "execution_count": null,
   "metadata": {},
   "outputs": [],
   "source": []
  }
 ]
}