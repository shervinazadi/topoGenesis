{
 "cells": [
  {
   "cell_type": "markdown",
   "metadata": {},
   "source": [
    "# Boolean Marching Cube\n",
    "\n",
    "In this notebook we will go through the following process:\n",
    "1. Surface Mesh Sampling\n",
    "2. Voxelization\n",
    "3. Boolean Marching Cube"
   ]
  },
  {
   "cell_type": "markdown",
   "metadata": {},
   "source": [
    "### Step 0\n",
    "import all the necessary libraries and specify all inputs"
   ]
  },
  {
   "cell_type": "code",
   "execution_count": 1,
   "metadata": {
    "tags": []
   },
   "outputs": [],
   "source": [
    "import os               # for path manipulation\n",
    "import topogenesis as tg# core\n",
    "import pyvista as pv    # for plotting and visualizations\n",
    "\n",
    "vs = 0.01               # voxel size \n",
    "unit = [vs,vs,vs]       # unit size\n",
    "tol = 1e-09             # intersection tolerance\n",
    "mesh_path = os.path.relpath('../../data/bunny_lowpoly.obj')\n",
    "original_mesh = tg.geometry.load_mesh(mesh_path)"
   ]
  },
  {
   "cell_type": "markdown",
   "metadata": {},
   "source": [
    "### Step 1\n",
    "Now that we have everything in place we will run the sampling algorithm to construct a poit cloud based on our `original_mesh`"
   ]
  },
  {
   "cell_type": "code",
   "execution_count": 2,
   "metadata": {},
   "outputs": [],
   "source": [
    "sample_cloud = tg.geometry.mesh_sampling(original_mesh, unit, tol=tol)"
   ]
  },
  {
   "cell_type": "markdown",
   "metadata": {},
   "source": [
    "### Step 2: \n",
    "Voxelating the point cloud to construct the lattice"
   ]
  },
  {
   "cell_type": "code",
   "execution_count": 3,
   "metadata": {},
   "outputs": [],
   "source": [
    "lattice = sample_cloud.voxelate(unit, closed=True)"
   ]
  },
  {
   "cell_type": "markdown",
   "metadata": {},
   "source": [
    "### Step 3: \n",
    "Costructing the Cube Lattice using the Boolea Marching Cube Algorithm"
   ]
  },
  {
   "cell_type": "code",
   "execution_count": 4,
   "metadata": {
    "tags": []
   },
   "outputs": [
    {
     "ename": "ValueError",
     "evalue": "could not broadcast input array from shape (15,15,12) into shape (15,16,13)",
     "output_type": "error",
     "traceback": [
      "\u001b[0;31m---------------------------------------------------------------------------\u001b[0m",
      "\u001b[0;31mValueError\u001b[0m                                Traceback (most recent call last)",
      "\u001b[0;32m<ipython-input-4-062e3efd0bc3>\u001b[0m in \u001b[0;36m<module>\u001b[0;34m\u001b[0m\n\u001b[0;32m----> 1\u001b[0;31m \u001b[0mcube_lattice\u001b[0m \u001b[0;34m=\u001b[0m \u001b[0mlattice\u001b[0m\u001b[0;34m.\u001b[0m\u001b[0mboolean_marching_cubes\u001b[0m\u001b[0;34m(\u001b[0m\u001b[0;34m)\u001b[0m\u001b[0;34m\u001b[0m\u001b[0;34m\u001b[0m\u001b[0m\n\u001b[0m",
      "\u001b[0;32m~/Documents/Git/topoGenesis/topogenesis/datastructures/datastructures.py\u001b[0m in \u001b[0;36mboolean_marching_cubes\u001b[0;34m(self)\u001b[0m\n\u001b[1;32m    260\u001b[0m         \u001b[0;31m# cube_lattice = lattice([self.minbound, self.maxbound + self.unit],\u001b[0m\u001b[0;34m\u001b[0m\u001b[0;34m\u001b[0m\u001b[0;34m\u001b[0m\u001b[0m\n\u001b[1;32m    261\u001b[0m         \u001b[0;31m#                        unit=self.unit, dtype=np.uint8, buffer=cube_grid, default_value=False)\u001b[0m\u001b[0;34m\u001b[0m\u001b[0;34m\u001b[0m\u001b[0;34m\u001b[0m\u001b[0m\n\u001b[0;32m--> 262\u001b[0;31m         cube_lattice = to_lattice(\n\u001b[0m\u001b[1;32m    263\u001b[0m             cube_grid, minbound=self.minbound + self.unit * 0.5, unit=self.unit)\n\u001b[1;32m    264\u001b[0m \u001b[0;34m\u001b[0m\u001b[0m\n",
      "\u001b[0;32m~/Documents/Git/topoGenesis/topogenesis/datastructures/datastructures.py\u001b[0m in \u001b[0;36mto_lattice\u001b[0;34m(a, minbound, unit)\u001b[0m\n\u001b[1;32m    775\u001b[0m     \u001b[0;31m# construct a lattice\u001b[0m\u001b[0;34m\u001b[0m\u001b[0;34m\u001b[0m\u001b[0;34m\u001b[0m\u001b[0m\n\u001b[1;32m    776\u001b[0m     \u001b[0marray_lattice\u001b[0m \u001b[0;34m=\u001b[0m \u001b[0mlattice\u001b[0m\u001b[0;34m(\u001b[0m\u001b[0mbounds\u001b[0m\u001b[0;34m,\u001b[0m \u001b[0munit\u001b[0m\u001b[0;34m=\u001b[0m\u001b[0munit\u001b[0m\u001b[0;34m,\u001b[0m \u001b[0mdtype\u001b[0m\u001b[0;34m=\u001b[0m\u001b[0ma\u001b[0m\u001b[0;34m.\u001b[0m\u001b[0mdtype\u001b[0m\u001b[0;34m)\u001b[0m\u001b[0;34m\u001b[0m\u001b[0;34m\u001b[0m\u001b[0m\n\u001b[0;32m--> 777\u001b[0;31m     \u001b[0marray_lattice\u001b[0m\u001b[0;34m[\u001b[0m\u001b[0;34m:\u001b[0m\u001b[0;34m,\u001b[0m \u001b[0;34m:\u001b[0m\u001b[0;34m,\u001b[0m \u001b[0;34m:\u001b[0m\u001b[0;34m]\u001b[0m \u001b[0;34m=\u001b[0m \u001b[0ma\u001b[0m\u001b[0;34m[\u001b[0m\u001b[0;34m:\u001b[0m\u001b[0;34m,\u001b[0m \u001b[0;34m:\u001b[0m\u001b[0;34m,\u001b[0m \u001b[0;34m:\u001b[0m\u001b[0;34m]\u001b[0m\u001b[0;34m\u001b[0m\u001b[0;34m\u001b[0m\u001b[0m\n\u001b[0m\u001b[1;32m    778\u001b[0m     \u001b[0;32mreturn\u001b[0m \u001b[0marray_lattice\u001b[0m\u001b[0;34m\u001b[0m\u001b[0;34m\u001b[0m\u001b[0m\n",
      "\u001b[0;31mValueError\u001b[0m: could not broadcast input array from shape (15,15,12) into shape (15,16,13)"
     ]
    }
   ],
   "source": [
    "cube_lattice = lattice.boolean_marching_cubes()"
   ]
  },
  {
   "cell_type": "markdown",
   "metadata": {},
   "source": [
    "### Step 4: \n",
    "Plotting"
   ]
  },
  {
   "cell_type": "code",
   "execution_count": null,
   "metadata": {},
   "outputs": [],
   "source": [
    "\n",
    "# initiating the plotter\n",
    "p = pv.PlotterITK() # ITK plotter for interactivity within the python notebook (itkwidgets library is required)\n",
    "\n",
    "# visualize tiles\n",
    "p = tg.marching_cube_vis(p, cube_lattice, \"chamfer\")\n",
    "\n",
    "# fast visualization of the lattice\n",
    "p = lattice.fast_notebook_vis(p)\n",
    "\n",
    "# adding the base mesh: light blue\n",
    "# mesh = pv.read(geo_path)\n",
    "# p.add_mesh(mesh, show_edges=True, color='#abd8ff', opacity=0.4, label=\"Base Mesh\")\n",
    "\n",
    "# plotting\n",
    "p.show()\n"
   ]
  },
  {
   "cell_type": "raw",
   "metadata": {},
   "source": []
  }
 ],
 "metadata": {
  "kernelspec": {
   "display_name": "Python 3",
   "language": "python",
   "name": "python3"
  },
  "language_info": {
   "codemirror_mode": {
    "name": "ipython",
    "version": 3
   },
   "file_extension": ".py",
   "mimetype": "text/x-python",
   "name": "python",
   "nbconvert_exporter": "python",
   "pygments_lexer": "ipython3",
   "version": "3.8.5"
  }
 },
 "nbformat": 4,
 "nbformat_minor": 2
}
