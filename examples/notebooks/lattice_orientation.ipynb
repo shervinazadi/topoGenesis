{
 "metadata": {
  "language_info": {
   "codemirror_mode": {
    "name": "ipython",
    "version": 3
   },
   "file_extension": ".py",
   "mimetype": "text/x-python",
   "name": "python",
   "nbconvert_exporter": "python",
   "pygments_lexer": "ipython3",
   "version": "3.8.5"
  },
  "orig_nbformat": 4,
  "kernelspec": {
   "name": "python3",
   "display_name": "Python 3.8.5 64-bit ('tgdev': conda)"
  },
  "interpreter": {
   "hash": "232c0d2e1ace95119f0f50ab7b77ac3ba9f0cfd8ad5dddf0ba4b7966ca8956d0"
  }
 },
 "nbformat": 4,
 "nbformat_minor": 2,
 "cells": [
  {
   "cell_type": "code",
   "execution_count": 1,
   "metadata": {},
   "outputs": [],
   "source": [
    "import topogenesis as tg\n",
    "import numpy as np\n",
    "from scipy.spatial.transform import Rotation as R\n",
    "import pyvista as pv"
   ]
  },
  {
   "cell_type": "code",
   "execution_count": 2,
   "metadata": {},
   "outputs": [],
   "source": [
    "r = R.from_rotvec(np.radians(45) * np.array([0, 1, 0]))"
   ]
  },
  {
   "cell_type": "code",
   "execution_count": 3,
   "metadata": {},
   "outputs": [],
   "source": [
    "l = tg.to_lattice(np.ones((3,3,3)), np.array([0,0,0]), orient=r.as_quat())"
   ]
  },
  {
   "cell_type": "code",
   "execution_count": 4,
   "metadata": {},
   "outputs": [],
   "source": [
    "oriented = l.centroids_threshold()\n",
    "not_oriented = l.centroids"
   ]
  },
  {
   "cell_type": "code",
   "execution_count": 5,
   "metadata": {},
   "outputs": [
    {
     "output_type": "display_data",
     "data": {
      "text/plain": "ViewInteractiveWidget(height=768, layout=Layout(height='auto', width='100%'), width=1024)",
      "application/vnd.jupyter.widget-view+json": {
       "version_major": 2,
       "version_minor": 0,
       "model_id": "dd42f86afffb4cfaa73eaf656f020c61"
      }
     },
     "metadata": {}
    }
   ],
   "source": [
    "# initiating the plotter\n",
    "pv.set_jupyter_backend(\"ipyvtklink\")\n",
    "p = pv.Plotter(notebook=True)\n",
    "\n",
    "# fast visualization of the point cloud\n",
    "oriented.fast_notebook_vis(p)\n",
    "not_oriented.fast_notebook_vis(p)\n",
    "\n",
    "# fast visualization of the lattice\n",
    "# l.fast_notebook_vis(p, show_outline=True, show_centroids=True)\n",
    "\n",
    "# plotting\n",
    "p.show()"
   ]
  },
  {
   "cell_type": "code",
   "execution_count": null,
   "metadata": {},
   "outputs": [],
   "source": []
  }
 ]
}