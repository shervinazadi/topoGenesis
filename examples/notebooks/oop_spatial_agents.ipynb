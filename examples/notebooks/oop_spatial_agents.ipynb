{
 "metadata": {
  "language_info": {
   "codemirror_mode": {
    "name": "ipython",
    "version": 3
   },
   "file_extension": ".py",
   "mimetype": "text/x-python",
   "name": "python",
   "nbconvert_exporter": "python",
   "pygments_lexer": "ipython3",
   "version": "3.8.5-final"
  },
  "orig_nbformat": 2,
  "kernelspec": {
   "name": "python_defaultSpec_1600806864269",
   "display_name": "Python 3.8.5 64-bit ('tgdev': conda)"
  }
 },
 "nbformat": 4,
 "nbformat_minor": 2,
 "cells": [
  {
   "cell_type": "code",
   "execution_count": 1,
   "metadata": {},
   "outputs": [],
   "source": [
    "import topogenesis as tg\n",
    "import numpy as np\n",
    "np.random.seed(0)"
   ]
  },
  {
   "cell_type": "code",
   "execution_count": 2,
   "metadata": {
    "tags": []
   },
   "outputs": [],
   "source": [
    "# agent class\n",
    "class agent():\n",
    "    def __init__(self, origin, stencil):\n",
    "        self.origin = np.array(origin).astype(np.int8)\n",
    "        self.stencil = stencil\n",
    "    def walk(self, env):\n",
    "        # find available spaces\n",
    "        neighs = env.availibility.find_neighbours_masked(self.stencil, loc = self.origin)\n",
    "        #find availability of neighbours\n",
    "        neighs_avail = env.availibility.flatten()[neighs]\n",
    "        # mask of available neighbours\n",
    "        mask = np.argwhere(neighs_avail==1).flatten()\n",
    "        # random choice of available neighbours \n",
    "        selected_neigh = neighs[np.random.choice(mask, 1)]\n",
    "        \n",
    "        # update information\n",
    "        self.origin = np.array(np.unravel_index(selected_neigh, env.availibility.shape)).flatten()\n",
    "\n",
    "# initiate availibility lattice\n",
    "unit = 1\n",
    "bounds = np.array([[0,0,0],[0,7,7]])\n",
    "avail_lattice = tg.lattice(bounds, unit=unit, default_value=1, dtype=int)\n",
    "\n",
    "# randomly scattering the agents\n",
    "selected_cells = np.random.choice(avail_lattice.size, 5)\n",
    "agent_ind = np.array(np.unravel_index(selected_cells, avail_lattice.shape))\n",
    "\n",
    "# creating neighborhood definition\n",
    "stencil = tg.stencil(np.array([[[0, 1, 0,],\n",
    "                                [1, 0, 1,],\n",
    "                                [0, 1, 0,]]]),origin=np.array([0,1,1]))\n",
    "\n",
    "\n",
    "agents= []\n",
    "# creating agent objects\n",
    "for ind in agent_ind.T.tolist():\n",
    "    myagent = agent(ind, stencil)\n",
    "    agents.append(myagent)"
   ]
  },
  {
   "cell_type": "code",
   "execution_count": 3,
   "metadata": {
    "tags": []
   },
   "outputs": [
    {
     "output_type": "stream",
     "name": "stdout",
     "text": "[[[1 1 1 1 1 1 1 1]\n  [1 1 1 1 1 1 1 1]\n  [1 1 1 1 1 1 1 1]\n  [1 1 1 1 1 1 1 1]\n  [1 1 1 1 1 1 1 1]\n  [1 1 1 1 1 1 1 1]\n  [1 1 1 1 1 1 1 1]\n  [1 1 1 1 1 1 1 1]]]\n[[[0 1 1 0 1 1 1 1]\n  [1 1 1 1 1 1 1 1]\n  [1 1 1 1 1 1 1 1]\n  [1 1 1 1 1 1 1 1]\n  [1 1 1 1 1 1 1 1]\n  [1 1 1 1 0 1 1 0]\n  [1 1 1 1 1 0 1 1]\n  [1 1 1 1 1 1 1 1]]]\n[[[0 1 1 0 1 1 1 1]\n  [0 1 1 1 0 1 1 1]\n  [1 1 1 1 1 1 1 1]\n  [1 1 1 1 1 1 1 1]\n  [1 1 1 1 1 1 1 1]\n  [1 1 1 1 0 1 1 0]\n  [1 1 1 1 0 0 1 0]\n  [1 1 1 1 1 0 1 1]]]\n[[[0 1 1 0 1 1 1 1]\n  [0 1 1 1 0 0 1 1]\n  [1 0 1 1 1 1 1 1]\n  [1 1 1 1 1 1 1 1]\n  [1 1 1 1 1 1 1 1]\n  [1 1 1 1 0 1 1 0]\n  [1 1 1 1 0 0 1 0]\n  [1 1 1 1 0 0 1 0]]]\n"
    }
   ],
   "source": [
    "# environment class\n",
    "class environment():\n",
    "    def __init__(self, lattices, agents):\n",
    "        self.availibility = lattices[\"availibility\"]\n",
    "        self.agents = agents\n",
    "    \n",
    "    def update_availability(self):\n",
    "        for a in self.agents:\n",
    "            self.availibility[tuple(a.origin)] *= 0\n",
    "    \n",
    "    def walk_agents(self):\n",
    "        for a in self.agents:\n",
    "            a.walk(self)\n",
    "        \n",
    "\n",
    "# initiate the environment\n",
    "env_lattices = {\"availibility\": avail_lattice}\n",
    "env = environment(env_lattices, agents)\n",
    "print(env.availibility)\n",
    "env.update_availability()\n",
    "print(env.availibility)\n",
    "env.walk_agents()\n",
    "env.update_availability()\n",
    "print(env.availibility)\n",
    "env.walk_agents()\n",
    "env.update_availability()\n",
    "print(env.availibility)"
   ]
  },
  {
   "cell_type": "code",
   "execution_count": null,
   "metadata": {},
   "outputs": [],
   "source": []
  }
 ]
}