{
 "cells": [
  {
   "cell_type": "code",
   "execution_count": 1,
   "metadata": {},
   "outputs": [],
   "source": [
    "import topogenesis as tg\n",
    "import numpy as np\n",
    "import pyvista as pv\n",
    "from time import sleep"
   ]
  },
  {
   "cell_type": "code",
   "execution_count": 2,
   "metadata": {},
   "outputs": [
    {
     "name": "stdout",
     "output_type": "stream",
     "text": [
      "[[[1 1 1]\n",
      "  [1 1 1]\n",
      "  [1 1 1]]\n",
      "\n",
      " [[1 1 1]\n",
      "  [1 0 1]\n",
      "  [1 1 1]]\n",
      "\n",
      " [[1 1 1]\n",
      "  [1 1 1]\n",
      "  [1 1 1]]]\n"
     ]
    }
   ],
   "source": [
    "# create a step one moore neighbourhood\n",
    "s = tg.create_stencil(\"moore\", 1)\n",
    "\n",
    "# set the center to 0\n",
    "s.set_index([0, 0, 0], 0)\n",
    "\n",
    "# assign the sum function\n",
    "s.function = tg.sfunc.sum  # np.sum\n",
    "\n",
    "print(s)"
   ]
  },
  {
   "cell_type": "code",
   "execution_count": 3,
   "metadata": {},
   "outputs": [
    {
     "name": "stdout",
     "output_type": "stream",
     "text": [
      "[[[0 1 0]\n",
      "  [0 1 0]\n",
      "  [0 1 0]]]\n"
     ]
    }
   ],
   "source": [
    "# initiate the lattice\n",
    "size = 1\n",
    "l = tg.lattice([[0, -size, -size], [0, size, size]], default_value=0, dtype=int)\n",
    "l[0, :, size] = 1\n",
    "# l[0, size, :] = 1\n",
    "\n",
    "print(l)"
   ]
  },
  {
   "cell_type": "code",
   "execution_count": 5,
   "metadata": {},
   "outputs": [
    {
     "data": {
      "application/vnd.jupyter.widget-view+json": {
       "model_id": "4b06f78bdacd46a3b9debb5a6daeecf7",
       "version_major": 2,
       "version_minor": 0
      },
      "text/plain": [
       "ViewInteractiveWidget(height=768, layout=Layout(height='auto', width='100%'), width=1024)"
      ]
     },
     "metadata": {},
     "output_type": "display_data"
    }
   ],
   "source": [
    "# initiating the plotter\n",
    "# p = pv.Plotter()\n",
    "p = pv.Plotter(notebook=True)\n",
    "\n",
    "# fast visualization of the lattice\n",
    "l.fast_vis(p)\n",
    "\n",
    "# setup camera and close\n",
    "p.set_position([10,0,0])\n",
    "p.reset_camera()\n",
    "\n",
    "p.show(use_ipyvtk=True)\n",
    "\n",
    "# # Open a gif\n",
    "# p.open_gif(\"CA.gif\")\n",
    "\n",
    "# main iteration forloop\n",
    "for i in range(2):\n",
    "\n",
    "    # apply the stencil on the lattice\n",
    "    neighbor_sum = l.apply_stencil(s)\n",
    "\n",
    "    # apply cellular automata rules\n",
    "    ######\n",
    "    # turn off if less than 2 or more than 3\n",
    "    l *= (neighbor_sum >= 2) * (neighbor_sum <= 3)\n",
    "\n",
    "    # turn on if 3 neighbours are on\n",
    "    l[(neighbor_sum == 3)] = 1\n",
    "\n",
    "    # update the plot\n",
    "    ######\n",
    "    p.clear()\n",
    "    l.fast_vis(p)\n",
    "\n",
    "    # # this will trigger the render\n",
    "    # p.write_frame()\n",
    "    p.render()\n",
    "    # p.show(use_ipyvtk=True)\n",
    "\n",
    "    # wait for 0.3 seconds\n",
    "    sleep(.1)\n",
    "\n",
    "# # Close movie and delete object\n",
    "# p.close()"
   ]
  },
  {
   "cell_type": "code",
   "execution_count": null,
   "metadata": {},
   "outputs": [],
   "source": [
    "from IPython.display import Image\n",
    "Image(filename=\"CA.gif\")"
   ]
  }
 ],
 "metadata": {
  "kernelspec": {
   "display_name": "Python 3",
   "language": "python",
   "name": "python3"
  },
  "language_info": {
   "codemirror_mode": {
    "name": "ipython",
    "version": 3
   },
   "file_extension": ".py",
   "mimetype": "text/x-python",
   "name": "python",
   "nbconvert_exporter": "python",
   "pygments_lexer": "ipython3",
   "version": "3.8.5"
  }
 },
 "nbformat": 4,
 "nbformat_minor": 2
}
