{
 "cells": [
  {
   "cell_type": "markdown",
   "metadata": {},
   "source": [
    "# Boolean Marching Cube\n",
    "\n",
    "In this notebook we will go through the following process:\n",
    "1. Surface Mesh Sampling\n",
    "2. Voxelization\n",
    "3. Boolean Marching Cube"
   ]
  },
  {
   "cell_type": "markdown",
   "metadata": {},
   "source": [
    "### Step 0\n",
    "import all the necessary libraries and specify all inputs"
   ]
  },
  {
   "cell_type": "code",
   "execution_count": 3,
   "metadata": {
    "tags": []
   },
   "outputs": [],
   "source": [
    "import os               # for path manipulation\n",
    "import topogenesis as tg# core\n",
    "import pyvista as pv    # for plotting and visualizations\n",
    "\n",
    "vs = 0.01               # voxel size \n",
    "unit = [vs,vs,vs]       # unit size\n",
    "tol = 1e-09             # intersection tolerance\n",
    "mesh_path = os.path.relpath('../../data/bunny_lowpoly.obj')\n",
    "original_mesh = tg.geometry.load_mesh(mesh_path)"
   ]
  },
  {
   "cell_type": "markdown",
   "metadata": {},
   "source": [
    "### Step 1\n",
    "Now that we have everything in place we will run the sampling algorithm to construct a poit cloud based on our `original_mesh`"
   ]
  },
  {
   "cell_type": "code",
   "execution_count": null,
   "metadata": {},
   "outputs": [],
   "source": [
    "sample_cloud = tg.geometry.mesh_sampling(original_mesh, unit, tol=tol)"
   ]
  },
  {
   "cell_type": "markdown",
   "metadata": {},
   "source": [
    "### Step 2: \n",
    "Voxelating the point cloud to construct the lattice"
   ]
  },
  {
   "cell_type": "code",
   "execution_count": null,
   "metadata": {},
   "outputs": [],
   "source": [
    "lattice = sample_cloud.voxelate(unit, closed=True)"
   ]
  },
  {
   "cell_type": "markdown",
   "metadata": {},
   "source": [
    "### Step 3: \n",
    "Costructing the Cube Lattice using the Boolea Marching Cube Algorithm"
   ]
  },
  {
   "cell_type": "code",
   "execution_count": null,
   "metadata": {
    "tags": []
   },
   "outputs": [],
   "source": [
    "cube_lattice = lattice.boolean_marching_cubes()"
   ]
  },
  {
   "cell_type": "markdown",
   "metadata": {},
   "source": [
    "### Step 4: \n",
    "Plotting"
   ]
  },
  {
   "cell_type": "code",
   "execution_count": null,
   "metadata": {},
   "outputs": [],
   "source": [
    "\n",
    "# initiating the plotter\n",
    "p = pv.PlotterITK() # ITK plotter for interactivity within the python notebook (itkwidgets library is required)\n",
    "\n",
    "# visualize tiles\n",
    "p = tg.marching_cube_vis(p, cube_lattice, \"chamfer\")\n",
    "\n",
    "# fast visualization of the lattice\n",
    "p = lattice.fast_notebook_vis(p)\n",
    "\n",
    "# adding the base mesh: light blue\n",
    "# mesh = pv.read(geo_path)\n",
    "# p.add_mesh(mesh, show_edges=True, color='#abd8ff', opacity=0.4, label=\"Base Mesh\")\n",
    "\n",
    "# plotting\n",
    "p.show()\n"
   ]
  },
  {
   "cell_type": "raw",
   "metadata": {},
   "source": []
  }
 ],
 "metadata": {
  "kernelspec": {
   "display_name": "Python 3",
   "language": "python",
   "name": "python3"
  },
  "language_info": {
   "codemirror_mode": {
    "name": "ipython",
    "version": 3
   },
   "file_extension": ".py",
   "mimetype": "text/x-python",
   "name": "python",
   "nbconvert_exporter": "python",
   "pygments_lexer": "ipython3",
   "version": "3.8.5"
  }
 },
 "nbformat": 4,
 "nbformat_minor": 2
}
