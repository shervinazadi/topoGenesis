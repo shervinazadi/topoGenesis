{
 "cells": [
  {
   "cell_type": "markdown",
   "metadata": {},
   "source": [
    "# PointCloud Voxelization"
   ]
  },
  {
   "cell_type": "markdown",
   "metadata": {},
   "source": [
    "## 0. Import libraries"
   ]
  },
  {
   "cell_type": "code",
   "execution_count": 1,
   "metadata": {},
   "outputs": [],
   "source": [
    "import os\n",
    "import topogenesis as tg\n",
    "import numpy as np\n",
    "import pyvista as pv"
   ]
  },
  {
   "cell_type": "markdown",
   "metadata": {},
   "source": [
    "## 1. read pint cloud from csv file"
   ]
  },
  {
   "cell_type": "code",
   "execution_count": 2,
   "metadata": {},
   "outputs": [
    {
     "name": "stdout",
     "output_type": "stream",
     "text": [
      "<class 'topogenesis.datastructures.datastructures.cloud'>\n",
      "[[ 9.3198970e+04  4.3618254e+05 -1.7400000e+00]\n",
      " [ 9.3361080e+04  4.3631357e+05  2.6570000e+01]]\n",
      "[[9.3340350e+04 4.3631074e+05 3.1100000e+00]\n",
      " [9.3340650e+04 4.3631029e+05 3.1300000e+00]\n",
      " [9.3340950e+04 4.3630982e+05 3.1300000e+00]\n",
      " ...\n",
      " [9.3360940e+04 4.3624841e+05 3.5800000e+00]\n",
      " [9.3360720e+04 4.3624877e+05 3.4200000e+00]\n",
      " [9.3360970e+04 4.3624895e+05 3.5400000e+00]]\n"
     ]
    }
   ],
   "source": [
    "pc_path = os.path.relpath('../../data/rdam_cloud.csv')\n",
    "pc = tg.cloud_from_csv(pc_path)\n",
    "print(type(pc))\n",
    "print(pc.bounds)\n",
    "print(pc)"
   ]
  },
  {
   "cell_type": "markdown",
   "metadata": {},
   "source": [
    "## 2. regularizing random points into a lattice"
   ]
  },
  {
   "cell_type": "code",
   "execution_count": 3,
   "metadata": {},
   "outputs": [
    {
     "name": "stdout",
     "output_type": "stream",
     "text": [
      "<class 'topogenesis.datastructures.datastructures.lattice'>\n",
      "[1 1 1]\n",
      "[[ 93198 436182     -3]\n",
      " [ 93362 436315     28]]\n"
     ]
    }
   ],
   "source": [
    "l = pc.voxelate([1, 1, 1])\n",
    "print(type(l))\n",
    "print(l.unit)\n",
    "print(l.bounds)"
   ]
  },
  {
   "cell_type": "markdown",
   "metadata": {},
   "source": [
    "## 3. plot the pointcloud"
   ]
  },
  {
   "cell_type": "code",
   "execution_count": 4,
   "metadata": {
    "scrolled": true
   },
   "outputs": [
    {
     "data": {
      "application/vnd.jupyter.widget-view+json": {
       "model_id": "81c28510849744be98b5d5fcc66b8860",
       "version_major": 2,
       "version_minor": 0
      },
      "text/plain": [
       "Viewer(geometries=[{'vtkClass': 'vtkPolyData', 'points': {'vtkClass': 'vtkPoints', 'name': '_points', 'numberO…"
      ]
     },
     "metadata": {},
     "output_type": "display_data"
    }
   ],
   "source": [
    "# initiating the plotter\n",
    "p = pv.PlotterITK() # ITK plotter for interactivity within the python notebook (itkwidgets library is required)\n",
    "\n",
    "# fast visualization of the point cloud\n",
    "pc.fast_notebook_vis(p)\n",
    "\n",
    "# fast visualization of the lattice\n",
    "l.fast_notebook_vis(p, show_outline=True, show_centroids=True)\n",
    "\n",
    "\n",
    "# Set a camera position\n",
    "p.camera_position = [(0.25, 0.18, 0.5), (0, .1, 0), (0, 1, 0)]\n",
    "\n",
    "# plotting\n",
    "p.show()"
   ]
  },
  {
   "cell_type": "code",
   "execution_count": null,
   "metadata": {},
   "outputs": [],
   "source": []
  }
 ],
 "metadata": {
  "kernelspec": {
   "display_name": "Python 3",
   "language": "python",
   "name": "python3"
  },
  "language_info": {
   "codemirror_mode": {
    "name": "ipython",
    "version": 3
   },
   "file_extension": ".py",
   "mimetype": "text/x-python",
   "name": "python",
   "nbconvert_exporter": "python",
   "pygments_lexer": "ipython3",
   "version": "3.8.5"
  }
 },
 "nbformat": 4,
 "nbformat_minor": 4
}
