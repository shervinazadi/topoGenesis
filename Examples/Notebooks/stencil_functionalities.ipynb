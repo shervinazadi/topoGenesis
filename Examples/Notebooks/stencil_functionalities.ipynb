{
 "metadata": {
  "language_info": {
   "codemirror_mode": {
    "name": "ipython",
    "version": 3
   },
   "file_extension": ".py",
   "mimetype": "text/x-python",
   "name": "python",
   "nbconvert_exporter": "python",
   "pygments_lexer": "ipython3",
   "version": 3
  },
  "orig_nbformat": 2,
  "kernelspec": {
   "name": "python_defaultSpec_1596618392834",
   "display_name": "Python 3.7.4 64-bit ('py3-hou': conda)"
  }
 },
 "nbformat": 4,
 "nbformat_minor": 2,
 "cells": [
  {
   "cell_type": "code",
   "execution_count": 13,
   "metadata": {},
   "outputs": [],
   "source": [
    "import volpy as vp"
   ]
  },
  {
   "cell_type": "code",
   "execution_count": 14,
   "metadata": {
    "tags": []
   },
   "outputs": [
    {
     "output_type": "stream",
     "name": "stdout",
     "text": "<class 'volpy.data.stencil'>\n[[[0 0 0]\n  [0 1 0]\n  [0 0 0]]\n\n [[0 1 0]\n  [1 1 1]\n  [0 1 0]]\n\n [[0 0 0]\n  [0 1 0]\n  [0 0 0]]]\n"
    }
   ],
   "source": [
    "# create a stencil based on well-known neighbourhood definitions\n",
    "von_neumann_stencil = vp.create_stencil(\"von_neumann\", 1, 1)\n",
    "\n",
    "# check the object type\n",
    "print(type(von_neumann_stencil))\n",
    "# see into the representative array\n",
    "print(von_neumann_stencil)"
   ]
  },
  {
   "cell_type": "code",
   "execution_count": 15,
   "metadata": {
    "tags": []
   },
   "outputs": [
    {
     "output_type": "stream",
     "name": "stdout",
     "text": "von_neumann\n[1 1 1]\n"
    }
   ],
   "source": [
    "# check the neighborhoud type and origin\n",
    "print(von_neumann_stencil.ntype)\n",
    "print(von_neumann_stencil.origin)"
   ]
  },
  {
   "cell_type": "code",
   "execution_count": 16,
   "metadata": {
    "tags": []
   },
   "outputs": [
    {
     "output_type": "stream",
     "name": "stdout",
     "text": "[[[1 1 1]\n  [1 1 1]\n  [1 1 1]]\n\n [[1 1 1]\n  [1 1 1]\n  [1 1 1]]\n\n [[1 1 1]\n  [1 1 1]\n  [1 1 1]]]\n"
    }
   ],
   "source": [
    "# create a moore neighbourhood stencil\n",
    "moore_stencil = vp.create_stencil(\"moore\", 1, 1)\n",
    "print(moore_stencil)"
   ]
  },
  {
   "cell_type": "code",
   "execution_count": 18,
   "metadata": {
    "tags": []
   },
   "outputs": [
    {
     "output_type": "stream",
     "name": "stdout",
     "text": "[[[1 1 1]\n  [1 1 1]\n  [1 1 1]]\n\n [[1 0 1]\n  [1 1 1]\n  [1 1 1]]\n\n [[1 1 1]\n  [1 1 1]\n  [1 1 1]]]\n"
    }
   ],
   "source": [
    "# customize the stencil with the help of global indicies: in this case removing the up-center cell\n",
    "moore_stencil[1,0,1] = 0\n",
    "print(moore_stencil)"
   ]
  },
  {
   "cell_type": "code",
   "execution_count": 20,
   "metadata": {
    "tags": []
   },
   "outputs": [
    {
     "output_type": "stream",
     "name": "stdout",
     "text": "[[[1 1 1]\n  [1 1 1]\n  [1 1 1]]\n\n [[1 0 1]\n  [1 1 1]\n  [1 0 1]]\n\n [[1 1 1]\n  [1 1 1]\n  [1 1 1]]]\n"
    }
   ],
   "source": [
    "# or customize the stencil with the help of local indicies: in this case removing the down-center cell\n",
    "moore_stencil.set_index([0,1,0], 0)\n",
    "print(moore_stencil)"
   ]
  },
  {
   "cell_type": "code",
   "execution_count": 24,
   "metadata": {
    "tags": []
   },
   "outputs": [
    {
     "output_type": "stream",
     "name": "stdout",
     "text": "custom\n[[[1 1 1]\n  [1 0 1]\n  [1 1 1]]\n\n [[1 0 1]\n  [0 0 0]\n  [1 0 1]]\n\n [[1 1 1]\n  [1 0 1]\n  [1 1 1]]]\n"
    }
   ],
   "source": [
    "# we can peform all universal functions(addition, subtraction, multiplication, etc) on stencils\n",
    "custom_stencil = moore_stencil - von_neumann_stencil\n",
    "print(custom_stencil.ntype)\n",
    "print(custom_stencil)"
   ]
  },
  {
   "cell_type": "code",
   "execution_count": 25,
   "metadata": {
    "tags": []
   },
   "outputs": [
    {
     "output_type": "stream",
     "name": "stdout",
     "text": "[[ 0  0  0]\n [-1  0  0]\n [ 0 -1  0]\n [ 0  0 -1]\n [ 0  0  1]\n [ 0  1  0]\n [ 1  0  0]]\n"
    }
   ],
   "source": [
    "# expand the stencil into the local addresses\n",
    "print(von_neumann_stencil.expand())"
   ]
  },
  {
   "cell_type": "code",
   "execution_count": null,
   "metadata": {},
   "outputs": [],
   "source": []
  }
 ]
}