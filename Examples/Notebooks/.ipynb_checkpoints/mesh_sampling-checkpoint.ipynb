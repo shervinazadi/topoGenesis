{
 "cells": [
  {
   "cell_type": "markdown",
   "metadata": {},
   "source": [
    "# Mesh Sampling Notebook\n",
    "\n",
    "In this notebook we will complete a mesh sampling process with the VolPy package\n"
   ]
  },
  {
   "cell_type": "markdown",
   "metadata": {},
   "source": [
    "The first step is to import all the necessary libraries"
   ]
  },
  {
   "cell_type": "code",
   "execution_count": 6,
   "metadata": {
    "tags": []
   },
   "outputs": [],
   "source": [
    "import os\n",
    "import numpy as np\n",
    "import pyvista as pv\n",
    "import volpy as vp"
   ]
  },
  {
   "cell_type": "markdown",
   "metadata": {},
   "source": [
    "The second step is to specify all the inputs"
   ]
  },
  {
   "cell_type": "code",
   "execution_count": 7,
   "metadata": {
    "tags": []
   },
   "outputs": [],
   "source": [
    "vs = 0.01\n",
    "unit = np.array([vs, vs, vs])\n",
    "tol = 1e-09\n",
    "mesh_path = os.path.relpath('../SampleData/bunny_lowpoly.obj')\n",
    "mesh = vp.load_mesh(mesh_path)"
   ]
  },
  {
   "cell_type": "markdown",
   "metadata": {},
   "source": [
    "Now that we have everything in place we will run the sampling algorithm and ask the function to output the ray origins as well"
   ]
  },
  {
   "cell_type": "code",
   "execution_count": 8,
   "metadata": {},
   "outputs": [],
   "source": [
    "sample_cloud, ray_origins = vp.mesh_sampling(mesh, unit, multi_core_process=False, return_ray_origin = True, tol=tol)"
   ]
  },
  {
   "cell_type": "markdown",
   "metadata": {},
   "source": [
    "After generating the samples, we will voxelate the cloud to construct alattice out of it"
   ]
  },
  {
   "cell_type": "code",
   "execution_count": 9,
   "metadata": {},
   "outputs": [],
   "source": [
    "lattice = sample_cloud.regularize(unit, closed=True)"
   ]
  },
  {
   "cell_type": "markdown",
   "metadata": {},
   "source": [
    "Next, we will fireup pyvista to plot the geometries"
   ]
  },
  {
   "cell_type": "code",
   "execution_count": 10,
   "metadata": {},
   "outputs": [
    {
     "data": {
      "application/vnd.jupyter.widget-view+json": {
       "model_id": "401a3d980ea64daa8d6437d3fb934569",
       "version_major": 2,
       "version_minor": 0
      },
      "text/plain": [
       "Viewer(geometries=[{'vtkClass': 'vtkPolyData', 'points': {'vtkClass': 'vtkPoints', 'name': '_points', 'numberO…"
      ]
     },
     "metadata": {},
     "output_type": "display_data"
    }
   ],
   "source": [
    "\n",
    "# initiating the plotter\n",
    "p = pv.PlotterITK() # ITK plotter for interactivity within the python notebook (itkwidgets library is required)\n",
    "\n",
    "# fast visualization of the point cloud\n",
    "sample_cloud.fast_notebook_vis(p)\n",
    "\n",
    "# fast visualization of the lattice\n",
    "lattice.fast_notebook_vis(p)\n",
    "\n",
    "# adding the base mesh: light blue\n",
    "mesh = pv.read(mesh_path)\n",
    "p.add_mesh(mesh, color='#abd8ff')\n",
    "\n",
    "# adding the ray origins: dark blue\n",
    "p.add_points(pv.PolyData(ray_origins), color='#004887')\n",
    "\n",
    "# Set a camera position\n",
    "p.camera_position = [(0.25, 0.18, 0.5), (0, .1, 0), (0, 1, 0)]\n",
    "\n",
    "# plotting\n",
    "p.show()\n"
   ]
  },
  {
   "cell_type": "code",
   "execution_count": null,
   "metadata": {},
   "outputs": [],
   "source": []
  }
 ],
 "metadata": {
  "kernelspec": {
   "display_name": "Python 3",
   "language": "python",
   "name": "python3"
  },
  "language_info": {
   "codemirror_mode": {
    "name": "ipython",
    "version": 3
   },
   "file_extension": ".py",
   "mimetype": "text/x-python",
   "name": "python",
   "nbconvert_exporter": "python",
   "pygments_lexer": "ipython3",
   "version": "3.7.4"
  }
 },
 "nbformat": 4,
 "nbformat_minor": 2
}
