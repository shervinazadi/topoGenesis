{
 "cells": [
  {
   "cell_type": "code",
   "execution_count": null,
   "metadata": {},
   "outputs": [],
   "source": [
    "import topogenesis as tg"
   ]
  },
  {
   "cell_type": "code",
   "execution_count": null,
   "metadata": {
    "tags": []
   },
   "outputs": [],
   "source": [
    "# create a stencil based on well-known neighbourhood definitions\n",
    "von_neumann_stencil = tg.create_stencil(\"von_neumann\", 1, 1)\n",
    "\n",
    "# check the object type\n",
    "print(type(von_neumann_stencil))\n",
    "# see into the representative array\n",
    "print(von_neumann_stencil)"
   ]
  },
  {
   "cell_type": "code",
   "execution_count": null,
   "metadata": {
    "tags": []
   },
   "outputs": [],
   "source": [
    "# check the neighborhoud type and origin\n",
    "print(von_neumann_stencil.ntype)\n",
    "print(von_neumann_stencil.origin)"
   ]
  },
  {
   "cell_type": "code",
   "execution_count": null,
   "metadata": {
    "tags": []
   },
   "outputs": [],
   "source": [
    "# create a moore neighbourhood stencil\n",
    "moore_stencil = tg.create_stencil(\"moore\", 1, 1)\n",
    "print(moore_stencil)"
   ]
  },
  {
   "cell_type": "code",
   "execution_count": null,
   "metadata": {
    "tags": []
   },
   "outputs": [],
   "source": [
    "# customize the stencil with the help of global indicies: in this case removing the up-center cell\n",
    "moore_stencil[1,0,1] = 0\n",
    "print(moore_stencil)"
   ]
  },
  {
   "cell_type": "code",
   "execution_count": null,
   "metadata": {
    "tags": []
   },
   "outputs": [],
   "source": [
    "# or customize the stencil with the help of local indicies: in this case removing the down-center cell\n",
    "moore_stencil.set_index([0,1,0], 0)\n",
    "print(moore_stencil)"
   ]
  },
  {
   "cell_type": "code",
   "execution_count": null,
   "metadata": {
    "tags": []
   },
   "outputs": [],
   "source": [
    "# we can peform all universal functions(addition, subtraction, multiplication, etc) on stencils\n",
    "custom_stencil = moore_stencil - von_neumann_stencil\n",
    "# import numpy as np\n",
    "# custom_test = np.array(moore_stencil) - np.array(von_neumann_stencil)\n",
    "print(custom_stencil.ntype)\n",
    "print(custom_stencil)\n"
   ]
  },
  {
   "cell_type": "code",
   "execution_count": null,
   "metadata": {
    "tags": []
   },
   "outputs": [],
   "source": [
    "# we can also expand the stencil into the local addresses\n",
    "print(von_neumann_stencil.expand())"
   ]
  }
 ],
 "metadata": {
  "kernelspec": {
   "display_name": "Python 3",
   "language": "python",
   "name": "python3"
  },
  "language_info": {
   "codemirror_mode": {
    "name": "ipython",
    "version": 3
   },
   "file_extension": ".py",
   "mimetype": "text/x-python",
   "name": "python",
   "nbconvert_exporter": "python",
   "pygments_lexer": "ipython3",
   "version": "3.7.4"
  }
 },
 "nbformat": 4,
 "nbformat_minor": 2
}
