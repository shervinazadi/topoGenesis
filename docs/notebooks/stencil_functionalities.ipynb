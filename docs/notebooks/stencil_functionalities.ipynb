{
 "cells": [
  {
   "cell_type": "markdown",
   "metadata": {},
   "source": [
    "# Stencils\n",
    "\n",
    "In this tutorial we will look at the Stencils in topoGenesis and the computational concept behind them."
   ]
  },
  {
   "cell_type": "code",
   "execution_count": 9,
   "metadata": {},
   "outputs": [],
   "source": [
    "import topogenesis as tg"
   ]
  },
  {
   "cell_type": "markdown",
   "metadata": {},
   "source": [
    "### Creation and basic properties"
   ]
  },
  {
   "source": [
    "We can create a stencil based on well-known neighbourhood definitions: [Von Neumann](https://en.wikipedia.org/wiki/Von_Neumann_neighborhood) or [Moore](https://en.wikipedia.org/wiki/Moore_neighborhood)"
   ],
   "cell_type": "markdown",
   "metadata": {}
  },
  {
   "cell_type": "code",
   "execution_count": 10,
   "metadata": {
    "tags": []
   },
   "outputs": [
    {
     "name": "stdout",
     "output_type": "stream",
     "text": [
      "<class 'topogenesis.datastructures.datastructures.stencil'>\n",
      "[[[0 0 0]\n",
      "  [0 1 0]\n",
      "  [0 0 0]]\n",
      "\n",
      " [[0 1 0]\n",
      "  [1 1 1]\n",
      "  [0 1 0]]\n",
      "\n",
      " [[0 0 0]\n",
      "  [0 1 0]\n",
      "  [0 0 0]]]\n"
     ]
    }
   ],
   "source": [
    "von_neumann_stencil = tg.create_stencil(\"von_neumann\", 1, 1)\n",
    "\n",
    "print(type(von_neumann_stencil))\n",
    "print(von_neumann_stencil)"
   ]
  },
  {
   "source": [
    "We can also expand the stencil into the local addresses"
   ],
   "cell_type": "markdown",
   "metadata": {}
  },
  {
   "cell_type": "code",
   "execution_count": 11,
   "metadata": {
    "tags": []
   },
   "outputs": [
    {
     "name": "stdout",
     "output_type": "stream",
     "text": [
      "[[ 0  0  0]\n",
      " [ 1  0  0]\n",
      " [ 0  1  0]\n",
      " [ 0  0  1]\n",
      " [ 0  0 -1]\n",
      " [ 0 -1  0]\n",
      " [-1  0  0]]\n"
     ]
    }
   ],
   "source": [
    "print(von_neumann_stencil.expand())"
   ]
  },
  {
   "cell_type": "markdown",
   "metadata": {},
   "source": [
    "### Neigbourhood type in stencils"
   ]
  },
  {
   "source": [
    "Check the neighborhoud type and origin"
   ],
   "cell_type": "markdown",
   "metadata": {}
  },
  {
   "cell_type": "code",
   "execution_count": 12,
   "metadata": {
    "tags": []
   },
   "outputs": [
    {
     "name": "stdout",
     "output_type": "stream",
     "text": [
      "von_neumann\n",
      "[1 1 1]\n"
     ]
    }
   ],
   "source": [
    "print(von_neumann_stencil.ntype)\n",
    "print(von_neumann_stencil.origin)"
   ]
  },
  {
   "source": [
    "Create a moore neighbourhood stencil"
   ],
   "cell_type": "markdown",
   "metadata": {}
  },
  {
   "cell_type": "code",
   "execution_count": 13,
   "metadata": {
    "tags": []
   },
   "outputs": [
    {
     "name": "stdout",
     "output_type": "stream",
     "text": [
      "[[[1 1 1]\n",
      "  [1 1 1]\n",
      "  [1 1 1]]\n",
      "\n",
      " [[1 1 1]\n",
      "  [1 1 1]\n",
      "  [1 1 1]]\n",
      "\n",
      " [[1 1 1]\n",
      "  [1 1 1]\n",
      "  [1 1 1]]]\n"
     ]
    }
   ],
   "source": [
    "moore_stencil = tg.create_stencil(\"moore\", 1, 1)\n",
    "print(moore_stencil)"
   ]
  },
  {
   "cell_type": "markdown",
   "metadata": {},
   "source": [
    "### Customizing stencils\n",
    "\n",
    "Customizing the stencil with the help of global indicies: in this case removing the up-center cell"
   ]
  },
  {
   "cell_type": "code",
   "execution_count": 14,
   "metadata": {
    "tags": []
   },
   "outputs": [
    {
     "name": "stdout",
     "output_type": "stream",
     "text": [
      "[[[1 1 1]\n",
      "  [1 1 1]\n",
      "  [1 1 1]]\n",
      "\n",
      " [[1 0 1]\n",
      "  [1 1 1]\n",
      "  [1 1 1]]\n",
      "\n",
      " [[1 1 1]\n",
      "  [1 1 1]\n",
      "  [1 1 1]]]\n"
     ]
    }
   ],
   "source": [
    "moore_stencil[1,0,1] = 0\n",
    "print(moore_stencil)"
   ]
  },
  {
   "source": [
    "Customizing the stencil with the help of local indicies: in this case removing the down-center cell."
   ],
   "cell_type": "markdown",
   "metadata": {}
  },
  {
   "cell_type": "code",
   "execution_count": 15,
   "metadata": {
    "tags": []
   },
   "outputs": [
    {
     "name": "stdout",
     "output_type": "stream",
     "text": [
      "[[[1 1 1]\n",
      "  [1 1 1]\n",
      "  [1 1 1]]\n",
      "\n",
      " [[1 0 1]\n",
      "  [1 1 1]\n",
      "  [1 0 1]]\n",
      "\n",
      " [[1 1 1]\n",
      "  [1 1 1]\n",
      "  [1 1 1]]]\n"
     ]
    }
   ],
   "source": [
    "moore_stencil.set_index([0,1,0], 0)\n",
    "print(moore_stencil)"
   ]
  },
  {
   "cell_type": "markdown",
   "metadata": {},
   "source": [
    "### Stencils and [Universal Functions](https://numpy.org/doc/stable/reference/ufuncs.html)\n",
    "\n",
    "We can peform all universal functions(addition, subtraction, multiplication, etc) on stencils."
   ]
  },
  {
   "cell_type": "code",
   "execution_count": 16,
   "metadata": {
    "tags": []
   },
   "outputs": [
    {
     "name": "stdout",
     "output_type": "stream",
     "text": [
      "custom\n",
      "[[[1 1 1]\n",
      "  [1 0 1]\n",
      "  [1 1 1]]\n",
      "\n",
      " [[1 0 1]\n",
      "  [0 0 0]\n",
      "  [1 0 1]]\n",
      "\n",
      " [[1 1 1]\n",
      "  [1 0 1]\n",
      "  [1 1 1]]]\n"
     ]
    }
   ],
   "source": [
    "custom_stencil = moore_stencil - von_neumann_stencil\n",
    "\n",
    "print(custom_stencil.ntype)\n",
    "print(custom_stencil)\n"
   ]
  }
 ],
 "metadata": {
  "kernelspec": {
   "display_name": "Python 3",
   "language": "python",
   "name": "python3"
  },
  "language_info": {
   "codemirror_mode": {
    "name": "ipython",
    "version": 3
   },
   "file_extension": ".py",
   "mimetype": "text/x-python",
   "name": "python",
   "nbconvert_exporter": "python",
   "pygments_lexer": "ipython3",
   "version": "3.8.5"
  }
 },
 "nbformat": 4,
 "nbformat_minor": 2
}