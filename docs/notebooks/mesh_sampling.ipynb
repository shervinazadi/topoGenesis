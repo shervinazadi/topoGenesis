{
 "cells": [
  {
   "cell_type": "markdown",
   "metadata": {},
   "source": [
    "# Mesh Sampling\n",
    "\n",
    "In this notebook we will complete a mesh sampling process with the topoGenesis package\n"
   ]
  },
  {
   "cell_type": "markdown",
   "metadata": {},
   "source": [
    "### 0. Initialization\n",
    "Importing all necessary libraries and specifying the inputs"
   ]
  },
  {
   "cell_type": "code",
   "execution_count": 2,
   "metadata": {
    "tags": []
   },
   "outputs": [],
   "source": [
    "import os\n",
    "import topogenesis as tg\n",
    "import pyvista as pv"
   ]
  },
  {
   "cell_type": "code",
   "execution_count": 3,
   "metadata": {
    "tags": []
   },
   "outputs": [],
   "source": [
    "vs = 0.01\n",
    "unit = [vs, vs, vs]\n",
    "tol = 1e-09\n",
    "mesh_path = os.path.relpath('../../data/bunny_lowpoly.obj')\n",
    "mesh = tg.geometry.load_mesh(mesh_path)"
   ]
  },
  {
   "cell_type": "markdown",
   "metadata": {},
   "source": [
    "### 1. Sampling\n",
    "Running the sampling algorithm and asking the function to output the ray origins as well"
   ]
  },
  {
   "cell_type": "code",
   "execution_count": 4,
   "metadata": {},
   "outputs": [],
   "source": [
    "sample_cloud, ray_origins = tg.geometry.mesh_sampling(mesh, unit, multi_core_process=False, return_ray_origin = True, tol=tol)"
   ]
  },
  {
   "cell_type": "markdown",
   "metadata": {},
   "source": [
    "### 2. Voxelating\n",
    "Voxelating the point cloud to construct a lattice out of it"
   ]
  },
  {
   "cell_type": "code",
   "execution_count": 5,
   "metadata": {
    "scrolled": true
   },
   "outputs": [
    {
     "output_type": "stream",
     "name": "stdout",
     "text": [
      "<class 'topogenesis.datastructures.datastructures.lattice'>\n[0.01 0.01 0.01]\n[[-0.1   0.02 -0.07]\n [ 0.07  0.19  0.07]]\n"
     ]
    }
   ],
   "source": [
    "lattice = sample_cloud.voxelate(unit, closed=True)\n",
    "print(type(lattice))\n",
    "print(lattice.unit)\n",
    "print(lattice.bounds)"
   ]
  },
  {
   "cell_type": "markdown",
   "metadata": {},
   "source": [
    "### 3. Plotting"
   ]
  },
  {
   "cell_type": "code",
   "execution_count": 8,
   "metadata": {},
   "outputs": [
    {
     "data": {
      "application/vnd.jupyter.widget-view+json": {
       "model_id": "3cd875a7eebe4157bda1ea1c9e8b9e0e",
       "version_major": 2,
       "version_minor": 0
      },
      "text/plain": [
       "Viewer(geometries=[{'vtkClass': 'vtkPolyData', 'points': {'vtkClass': 'vtkPoints', 'name': '_points', 'numberO…"
      ]
     },
     "metadata": {},
     "output_type": "display_data"
    }
   ],
   "source": [
    "\n",
    "# initiating the plotter\n",
    "p = pv.PlotterITK() # ITK plotter for interactivity within the python notebook (itkwidgets library is required)\n",
    "\n",
    "# fast visualization of the point cloud\n",
    "sample_cloud.fast_notebook_vis(p)\n",
    "\n",
    "# fast visualization of the lattice\n",
    "lattice.fast_notebook_vis(p)\n",
    "\n",
    "# adding the base mesh: light blue\n",
    "mesh = pv.read(mesh_path)\n",
    "p.add_mesh(mesh, color='#abd8ff')\n",
    "\n",
    "# adding the ray origins: dark blue\n",
    "p.add_points(pv.PolyData(ray_origins), color='#004887')\n",
    "\n",
    "# plotting\n",
    "p.show()\n"
   ]
  },
  {
   "source": [
    "![mesh_sampling](img/mesh_sampling.png)"
   ],
   "cell_type": "markdown",
   "metadata": {}
  }
 ],
 "metadata": {
  "kernelspec": {
   "display_name": "Python 3",
   "language": "python",
   "name": "python3"
  },
  "language_info": {
   "codemirror_mode": {
    "name": "ipython",
    "version": 3
   },
   "file_extension": ".py",
   "mimetype": "text/x-python",
   "name": "python",
   "nbconvert_exporter": "python",
   "pygments_lexer": "ipython3",
   "version": "3.8.5-final"
  }
 },
 "nbformat": 4,
 "nbformat_minor": 2
}