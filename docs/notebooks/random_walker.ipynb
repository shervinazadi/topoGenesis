{
 "metadata": {
  "language_info": {
   "codemirror_mode": {
    "name": "ipython",
    "version": 3
   },
   "file_extension": ".py",
   "mimetype": "text/x-python",
   "name": "python",
   "nbconvert_exporter": "python",
   "pygments_lexer": "ipython3",
   "version": "3.8.5-final"
  },
  "orig_nbformat": 2,
  "kernelspec": {
   "name": "python3",
   "display_name": "Python 3"
  }
 },
 "nbformat": 4,
 "nbformat_minor": 2,
 "cells": [
  {
   "source": [
    "# Agent Based Model: Random Walker\n",
    "\n",
    "Here we can see how to create a vectorized simulation of Random Walkers (ABM)\n",
    "\n",
    "### 0. Import Libraries"
   ],
   "cell_type": "markdown",
   "metadata": {}
  },
  {
   "cell_type": "code",
   "execution_count": 8,
   "metadata": {},
   "outputs": [],
   "source": [
    "import topogenesis as tg\n",
    "import pyvista as pv\n",
    "import numpy as np\n",
    "np.random.seed(0)"
   ]
  },
  {
   "source": [
    "### 1. Creating the Stencil"
   ],
   "cell_type": "markdown",
   "metadata": {}
  },
  {
   "cell_type": "code",
   "execution_count": 9,
   "metadata": {},
   "outputs": [
    {
     "output_type": "stream",
     "name": "stdout",
     "text": [
      "[[[0 0 0]\n  [0 0 0]\n  [0 0 0]]\n\n [[0 1 0]\n  [1 0 1]\n  [0 1 0]]\n\n [[0 0 0]\n  [0 0 0]\n  [0 0 0]]]\n"
     ]
    }
   ],
   "source": [
    "# create a step one moore neighbourhood\n",
    "s = tg.create_stencil(\"von_neumann\", 1)\n",
    "\n",
    "# set the center to 0, to prevent staying at the same point\n",
    "s.set_index([0, 0, 0], 0)\n",
    "\n",
    "# set the x-dimension to 0, since we are working in 2d\n",
    "s.set_index([1, 0, 0], 0)\n",
    "s.set_index([-1, 0, 0], 0)\n",
    "\n",
    "# assign the random choice function\n",
    "s.function = tg.sfunc.random_choice\n",
    "\n",
    "print(s)"
   ]
  },
  {
   "source": [
    "### 2. Create the Initial Lattice"
   ],
   "cell_type": "markdown",
   "metadata": {}
  },
  {
   "cell_type": "code",
   "execution_count": 10,
   "metadata": {},
   "outputs": [
    {
     "output_type": "stream",
     "name": "stdout",
     "text": [
      "[[[0 0 0 0 0 0 0]\n  [0 0 0 0 0 0 0]\n  [0 0 0 0 0 0 0]\n  [0 0 0 1 0 0 0]\n  [0 0 0 0 0 0 0]\n  [0 0 0 0 0 0 0]\n  [0 0 0 0 0 0 0]]]\n"
     ]
    }
   ],
   "source": [
    "# initiate the lattice 0x7x7\n",
    "l = tg.lattice([[0, -3, -3], [0, 3, 3]], default_value=0, dtype=int)\n",
    "\n",
    "# place the walker in the center of the lattice\n",
    "l[0, 3, 3] += 1\n",
    "\n",
    "print(l)"
   ]
  },
  {
   "source": [
    "### 3. Create Lattice of Cell Indices"
   ],
   "cell_type": "markdown",
   "metadata": {}
  },
  {
   "cell_type": "code",
   "execution_count": 11,
   "metadata": {},
   "outputs": [
    {
     "output_type": "stream",
     "name": "stdout",
     "text": [
      "[[[ 0  1  2  3  4  5  6]\n  [ 7  8  9 10 11 12 13]\n  [14 15 16 17 18 19 20]\n  [21 22 23 24 25 26 27]\n  [28 29 30 31 32 33 34]\n  [35 36 37 38 39 40 41]\n  [42 43 44 45 46 47 48]]]\n"
     ]
    }
   ],
   "source": [
    "# retrieve the indices of cells (0,1,2, ... n)\n",
    "l_inds = l.indices\n",
    "\n",
    "print(l_inds)"
   ]
  },
  {
   "source": [
    "### 4. Setup the Plotter"
   ],
   "cell_type": "markdown",
   "metadata": {}
  },
  {
   "source": [
    "# initiating the plotter\n",
    "p = pv.Plotter()\n",
    "\n",
    "# fast visualization of the lattice\n",
    "l.fast_vis(p)\n",
    "\n",
    "# setup camera and close\n",
    "p.set_position([10,0,0])\n",
    "p.reset_camera()"
   ],
   "cell_type": "code",
   "metadata": {},
   "execution_count": 12,
   "outputs": []
  },
  {
   "source": [
    "### 5. Main Simulation Loop"
   ],
   "cell_type": "markdown",
   "metadata": {}
  },
  {
   "cell_type": "code",
   "execution_count": 13,
   "metadata": {},
   "outputs": [],
   "source": [
    "# Open a gif\n",
    "p.open_gif(\"img/ABM_Random_Walker.gif\")\n",
    "\n",
    "# main iteration forloop\n",
    "for i in range(20):\n",
    "\n",
    "    # apply the stencil (function) to the lattice\n",
    "    random_neighbour = l_inds.apply_stencil(s, border_condition=\"roll\")\n",
    "\n",
    "    # convert the current positions id and selected neighbour id to lattice indices\n",
    "    old_pos = np.array(np.unravel_index(l_inds[l > 0], l.shape))\n",
    "    new_pos = np.array(np.unravel_index(random_neighbour[l > 0], l.shape))\n",
    "\n",
    "    # apply the movements\n",
    "    l[old_pos[0], old_pos[1], old_pos[2]] -= 1\n",
    "    l[new_pos[0], new_pos[1], new_pos[2]] += 1\n",
    "\n",
    "    # update the plot\n",
    "    ######\n",
    "    p.clear()\n",
    "    l.fast_vis(p)\n",
    "\n",
    "    # this will trigger the render\n",
    "    p.write_frame()\n",
    "\n",
    "# Close movie and delete object\n",
    "p.close()"
   ]
  },
  {
   "cell_type": "code",
   "execution_count": null,
   "metadata": {},
   "outputs": [],
   "source": [
    "from IPython.display import Image\n",
    "Image(filename=\"img/ABM_Random_Walker.gif\")"
   ]
  },
  {
   "source": [
    "![](img/ABM_Random_Walker.gif)"
   ],
   "cell_type": "markdown",
   "metadata": {}
  }
 ]
}