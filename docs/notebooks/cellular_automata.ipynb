{
 "metadata": {
  "language_info": {
   "codemirror_mode": {
    "name": "ipython",
    "version": 3
   },
   "file_extension": ".py",
   "mimetype": "text/x-python",
   "name": "python",
   "nbconvert_exporter": "python",
   "pygments_lexer": "ipython3",
   "version": "3.8.5-final"
  },
  "orig_nbformat": 2,
  "kernelspec": {
   "name": "python3",
   "display_name": "Python 3"
  }
 },
 "nbformat": 4,
 "nbformat_minor": 2,
 "cells": [
  {
   "source": [
    "# Cellular Automata: Conway's Game of Life\n",
    "\n",
    "Here we can see how to create a vectorized simulation of Cellular Automata\n",
    "\n",
    "### 0. Import Libraries"
   ],
   "cell_type": "markdown",
   "metadata": {}
  },
  {
   "cell_type": "code",
   "execution_count": 13,
   "metadata": {},
   "outputs": [],
   "source": [
    "import topogenesis as tg\n",
    "import numpy as np\n",
    "import pyvista as pv"
   ]
  },
  {
   "source": [
    "### 1. Creating the Stencil"
   ],
   "cell_type": "markdown",
   "metadata": {}
  },
  {
   "cell_type": "code",
   "execution_count": 14,
   "metadata": {},
   "outputs": [
    {
     "output_type": "stream",
     "name": "stdout",
     "text": [
      "[[[1 1 1]\n  [1 1 1]\n  [1 1 1]]\n\n [[1 1 1]\n  [1 0 1]\n  [1 1 1]]\n\n [[1 1 1]\n  [1 1 1]\n  [1 1 1]]]\n"
     ]
    }
   ],
   "source": [
    "# create a step one moore neighbourhood\n",
    "s = tg.create_stencil(\"moore\", 1)\n",
    "\n",
    "# set the center to 0\n",
    "s.set_index([0, 0, 0], 0)\n",
    "\n",
    "# assign the sum function\n",
    "s.function = tg.sfunc.sum  # np.sum\n",
    "\n",
    "print(s)"
   ]
  },
  {
   "source": [
    "### 2. Create the Initial Lattice"
   ],
   "cell_type": "markdown",
   "metadata": {}
  },
  {
   "cell_type": "code",
   "execution_count": 15,
   "metadata": {},
   "outputs": [
    {
     "output_type": "stream",
     "name": "stdout",
     "text": [
      "[[[0 1 0]\n  [0 1 0]\n  [0 1 0]]]\n"
     ]
    }
   ],
   "source": [
    "# initiate the lattice\n",
    "size = 1\n",
    "l = tg.lattice([[0, -size, -size], [0, size, size]], default_value=0, dtype=int)\n",
    "l[0, :, size] = 1\n",
    "\n",
    "print(l)"
   ]
  },
  {
   "source": [
    "### 3. Setup the Plotter"
   ],
   "cell_type": "markdown",
   "metadata": {}
  },
  {
   "cell_type": "code",
   "execution_count": 17,
   "metadata": {},
   "outputs": [],
   "source": [
    "# initiating the plotter\n",
    "p = pv.Plotter()\n",
    "\n",
    "# fast visualization of the lattice\n",
    "l.fast_vis(p)\n",
    "\n",
    "# setup camera and close\n",
    "p.set_position([10,0,0])\n",
    "p.reset_camera()"
   ]
  },
  {
   "source": [
    "### 4. Main Simulation Loop"
   ],
   "cell_type": "markdown",
   "metadata": {}
  },
  {
   "source": [
    "# Open a gif\n",
    "p.open_gif(\"img/CA.gif\")\n",
    "\n",
    "# main iteration forloop\n",
    "for i in range(2):\n",
    "\n",
    "    # apply the stencil on the lattice\n",
    "    neighbor_sum = l.apply_stencil(s)\n",
    "\n",
    "    # apply cellular automata rules\n",
    "    ######\n",
    "    # turn off if less than 2 or more than 3\n",
    "    l *= (neighbor_sum >= 2) * (neighbor_sum <= 3)\n",
    "\n",
    "    # turn on if 3 neighbours are on\n",
    "    l[(neighbor_sum == 3)] = 1\n",
    "\n",
    "    # update the plot\n",
    "    ######\n",
    "    p.clear()\n",
    "    l.fast_vis(p)\n",
    "\n",
    "    # this will trigger the render\n",
    "    p.write_frame()\n",
    "\n",
    "# Close movie and delete object\n",
    "p.close()"
   ],
   "cell_type": "code",
   "metadata": {},
   "execution_count": 10,
   "outputs": []
  },
  {
   "cell_type": "code",
   "execution_count": null,
   "metadata": {},
   "outputs": [],
   "source": [
    "from IPython.display import Image\n",
    "Image(filename=\"img/CA.gif\")"
   ]
  },
  {
   "source": [
    "![](img/CA.gif)"
   ],
   "cell_type": "markdown",
   "metadata": {}
  }
 ]
}